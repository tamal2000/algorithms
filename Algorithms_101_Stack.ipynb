{
  "nbformat": 4,
  "nbformat_minor": 0,
  "metadata": {
    "colab": {
      "name": "Algorithms 101: Stack.ipynb",
      "provenance": [],
      "collapsed_sections": [],
      "include_colab_link": true
    },
    "kernelspec": {
      "name": "python3",
      "display_name": "Python 3"
    }
  },
  "cells": [
    {
      "cell_type": "markdown",
      "metadata": {
        "id": "view-in-github",
        "colab_type": "text"
      },
      "source": [
        "<a href=\"https://colab.research.google.com/github/tamal2000/algorithms/blob/master/Algorithms_101_Stack.ipynb\" target=\"_parent\"><img src=\"https://colab.research.google.com/assets/colab-badge.svg\" alt=\"Open In Colab\"/></a>"
      ]
    },
    {
      "cell_type": "code",
      "metadata": {
        "id": "fExep5GMSbwS",
        "colab_type": "code",
        "colab": {}
      },
      "source": [
        "class Stack():\n",
        "\n",
        "#crate a list to stack items \n",
        "  def __init__(self):\n",
        "    self.items = []\n",
        "\n",
        "#insert items in the stack \n",
        "  def push(self, item):\n",
        "    self.items.append(item)\n",
        "\n",
        "#remove top item from the stack \n",
        "  def pop(self):\n",
        "    return self.items.pop()\n",
        "\n",
        "#check the top item in the stack   \n",
        "  def peek(self):\n",
        "    try:\n",
        "      return self.items[-1]\n",
        "    except: pass\n",
        "\n",
        "#check if the stack is empty \n",
        "  def is_empty(self):\n",
        "    return self.items == []\n",
        "\n",
        "#return the stack \n",
        "  def get_stack(self):\n",
        "    return self.items\n",
        "  "
      ],
      "execution_count": 0,
      "outputs": []
    },
    {
      "cell_type": "code",
      "metadata": {
        "id": "4o2_4tS2UFIR",
        "colab_type": "code",
        "colab": {}
      },
      "source": [
        "my_stack = Stack()"
      ],
      "execution_count": 0,
      "outputs": []
    },
    {
      "cell_type": "code",
      "metadata": {
        "id": "lYHdxA5JUVeT",
        "colab_type": "code",
        "colab": {}
      },
      "source": [
        "my_stack.push('A')\n",
        "my_stack.push('B')\n",
        "my_stack.push('C')\n",
        "my_stack.push('D')"
      ],
      "execution_count": 0,
      "outputs": []
    },
    {
      "cell_type": "code",
      "metadata": {
        "id": "2UT1rgshUerS",
        "colab_type": "code",
        "colab": {
          "base_uri": "https://localhost:8080/",
          "height": 34
        },
        "outputId": "def41160-6704-4c3a-a6cf-2b1d27ca776c"
      },
      "source": [
        "my_stack.get_stack()"
      ],
      "execution_count": 125,
      "outputs": [
        {
          "output_type": "execute_result",
          "data": {
            "text/plain": [
              "['A', 'B', 'C', 'D']"
            ]
          },
          "metadata": {
            "tags": []
          },
          "execution_count": 125
        }
      ]
    },
    {
      "cell_type": "code",
      "metadata": {
        "id": "28lQ618-Ugvw",
        "colab_type": "code",
        "colab": {
          "base_uri": "https://localhost:8080/",
          "height": 34
        },
        "outputId": "ca0d711c-3662-4982-8f97-7b5f1ed4f430"
      },
      "source": [
        "top_item = my_stack.pop()\n",
        "print('Top Item:', top_item)"
      ],
      "execution_count": 126,
      "outputs": [
        {
          "output_type": "stream",
          "text": [
            "Top Item: D\n"
          ],
          "name": "stdout"
        }
      ]
    },
    {
      "cell_type": "code",
      "metadata": {
        "id": "xUG31lcjVRC-",
        "colab_type": "code",
        "colab": {
          "base_uri": "https://localhost:8080/",
          "height": 34
        },
        "outputId": "8d867516-592e-4429-fd06-49b30f95b121"
      },
      "source": [
        "my_stack.is_empty()"
      ],
      "execution_count": 127,
      "outputs": [
        {
          "output_type": "execute_result",
          "data": {
            "text/plain": [
              "False"
            ]
          },
          "metadata": {
            "tags": []
          },
          "execution_count": 127
        }
      ]
    },
    {
      "cell_type": "code",
      "metadata": {
        "id": "S_KMteOdWenb",
        "colab_type": "code",
        "colab": {
          "base_uri": "https://localhost:8080/",
          "height": 34
        },
        "outputId": "286b1985-56f7-48ca-9ddd-02767a3e562c"
      },
      "source": [
        "my_stack.peek()"
      ],
      "execution_count": 128,
      "outputs": [
        {
          "output_type": "execute_result",
          "data": {
            "text/plain": [
              "'C'"
            ]
          },
          "metadata": {
            "tags": []
          },
          "execution_count": 128
        }
      ]
    },
    {
      "cell_type": "code",
      "metadata": {
        "id": "J9jURBlBkauQ",
        "colab_type": "code",
        "colab": {}
      },
      "source": [
        "def bracket_check(List):\n",
        "  my_bracket = Stack()\n",
        "\n",
        "  def check_input(brack, stact_item):\n",
        "    if brack == ')' and stact_item == '(': return True\n",
        "    if brack == '}' and stact_item == '{': return True\n",
        "    if brack == ']' and stact_item == '[': return True\n",
        " \n",
        "  for bracket in List:\n",
        "\n",
        "    if check_input(bracket, my_bracket.peek()):\n",
        "      my_bracket.pop()\n",
        "    else:\n",
        "      my_bracket.push(bracket)\n",
        "  \n",
        "  if my_bracket.is_empty():\n",
        "    print(\"This is a balanced brackdet list\")\n",
        "  else:    \n",
        "    print(\"The list is not balaced\",my_bracket.get_stack())\n",
        "  "
      ],
      "execution_count": 0,
      "outputs": []
    },
    {
      "cell_type": "code",
      "metadata": {
        "id": "94x9Etk_XEIO",
        "colab_type": "code",
        "colab": {
          "base_uri": "https://localhost:8080/",
          "height": 34
        },
        "outputId": "0974cab6-df97-4725-cb78-d89c3d7388c7"
      },
      "source": [
        "bracket_lsit = [')',\"{\",'(',')','}',']','{','(',')']\n",
        "bracket_check(bracket_lsit)"
      ],
      "execution_count": 130,
      "outputs": [
        {
          "output_type": "stream",
          "text": [
            "The list is not balaced [')', ']', '{']\n"
          ],
          "name": "stdout"
        }
      ]
    },
    {
      "cell_type": "code",
      "metadata": {
        "id": "uGTABwtTfPqG",
        "colab_type": "code",
        "colab": {
          "base_uri": "https://localhost:8080/",
          "height": 34
        },
        "outputId": "ccb9f11c-c971-4f04-f122-4157099458e8"
      },
      "source": [
        "bracket_lsit = ['(','[',\"{\",'(',')','}',']','{','}',')']\n",
        "bracket_check(bracket_lsit)\n"
      ],
      "execution_count": 131,
      "outputs": [
        {
          "output_type": "stream",
          "text": [
            "This is a balanced brackdet list\n"
          ],
          "name": "stdout"
        }
      ]
    },
    {
      "cell_type": "code",
      "metadata": {
        "id": "zJvYrCBl5ANY",
        "colab_type": "code",
        "colab": {}
      },
      "source": [
        ""
      ],
      "execution_count": 0,
      "outputs": []
    }
  ]
}